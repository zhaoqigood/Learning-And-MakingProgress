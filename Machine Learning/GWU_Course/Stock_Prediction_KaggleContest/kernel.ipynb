{
  "cells": [
    {
      "metadata": {
        "_uuid": "8f2839f25d086af736a60e9eeb907d3b93b6e0e5",
        "_cell_guid": "b1076dfc-b9ad-4769-8c92-a6c4dae69d19",
        "trusted": true
      },
      "cell_type": "code",
      "source": "# This Python 3 environment comes with many helpful analytics libraries installed\n# It is defined by the kaggle/python docker image: https://github.com/kaggle/docker-python\n# For example, here's several helpful packages to load in \n\nimport numpy as np # linear algebra\nimport pandas as pd # data processing, CSV file I/O (e.g. pd.read_csv)\n\n# Input data files are available in the \"../input/\" directory.\n# For example, running this (by clicking run or pressing Shift+Enter) will list the files in the input directory\n\nimport os\nprint(os.listdir(\"../input\"))\n\n# Any results you write to the current directory are saved as output.",
      "execution_count": null,
      "outputs": []
    },
    {
      "metadata": {
        "_cell_guid": "79c7e3d0-c299-4dcb-8224-4455121ee9b0",
        "_uuid": "d629ff2d2480ee46fbb7e2d37f6b5fab8052498a",
        "trusted": true
      },
      "cell_type": "code",
      "source": "from kaggle.competitions import twosigmanews\nenv = twosigmanews.make_env();",
      "execution_count": null,
      "outputs": []
    },
    {
      "metadata": {
        "trusted": true,
        "_uuid": "3a322847f0bd06473e3b9878f70d925163311159"
      },
      "cell_type": "code",
      "source": "(market_train_data, news_train_data) = env.get_training_data()",
      "execution_count": null,
      "outputs": []
    },
    {
      "metadata": {
        "trusted": true,
        "scrolled": true,
        "_uuid": "4038bc38e5cfdee522c625b19bcd907d9a6a1bc7"
      },
      "cell_type": "code",
      "source": "news_train_data.head()",
      "execution_count": null,
      "outputs": []
    },
    {
      "metadata": {
        "trusted": true,
        "_uuid": "26a3281952f466aa895ec5c425acc566a5877d47"
      },
      "cell_type": "code",
      "source": "news_train_data['headlineTag'].unique().size",
      "execution_count": null,
      "outputs": []
    },
    {
      "metadata": {
        "trusted": true,
        "_uuid": "f24cb035a7c0de49f9bca308acf6e8ce3e0e70e7"
      },
      "cell_type": "code",
      "source": "market_train_data = market_train_data.loc[market_train_data['time'] > '2012-01-01 22:00:00+0000']\nnews_train_data = news_train_data.loc[news_train_data['time'] > '2012-01-01 22:00:00+0000']",
      "execution_count": null,
      "outputs": []
    },
    {
      "metadata": {
        "trusted": true,
        "_uuid": "8f8bd8511da7d8c4085e4f92733f67f93e43087f"
      },
      "cell_type": "code",
      "source": "# For market data, drop the erreous data\nmarket_train_data['ratio'] = market_train_data['close'] / market_train_data['open']\nfor i, row in market_train_data.loc[market_train_data['ratio'] >= 2 ].iterrows():\n    market_train_data.drop(i)\nfor i, row in market_train_data.loc[market_train_data['ratio'] <= 0.5 ].iterrows():\n    market_train_data.drop(i)\nmarket_train_data.drop(columns = 'ratio', inplace = True)",
      "execution_count": null,
      "outputs": []
    },
    {
      "metadata": {
        "trusted": true,
        "_uuid": "ae25bca3b5face71a8abc4cff45554bd8a5c128d"
      },
      "cell_type": "code",
      "source": "import lightgbm as lgb\nimport numpy as np\nimport pandas as pd\nimport matplotlib.pyplot as plt\nfrom itertools import chain\n\n%matplotlib inline",
      "execution_count": null,
      "outputs": []
    },
    {
      "metadata": {
        "trusted": true,
        "_uuid": "a33097d5cf9e51fbdc2e7d2f1c50c29919837d70"
      },
      "cell_type": "code",
      "source": "news_cols_agg = {\n    'urgency': ['max','min','std'],\n    'bodySize': ['max','min','std'],\n    'marketCommentary': ['max','min'],\n    'wordCount': ['max', 'min', 'std'],\n    'sentenceCount': ['max', 'min', 'std'],\n    'companyCount': ['max', 'min', 'std'],\n    'relevance': ['max','min','std'],\n    'sentimentNegative': ['max','min','std'],\n    'sentimentNeutral': ['max','min','std'],\n    'sentimentPositive': ['max','min','std'],\n    'sentimentWordCount': ['max','min','std'],\n    'noveltyCount12H':['max','min','std'],\n    'noveltyCount24H': ['max','min','std'],\n    'noveltyCount3D': ['max','min','std'],\n    'noveltyCount5D': ['max','min','std'],\n    'noveltyCount7D': ['max','min','std'],\n    'volumeCounts12H': ['max','min','std'],\n    'volumeCounts24H': ['max','min','std'],\n    'volumeCounts3D': ['max','min','std'],\n    'volumeCounts5D': ['max','min','std'],\n    'volumeCounts7D': ['max','min','std']\n}",
      "execution_count": null,
      "outputs": []
    },
    {
      "metadata": {
        "trusted": true,
        "_uuid": "2b4aedcab00176d5b3db419709bfd5364d7e6cc5"
      },
      "cell_type": "code",
      "source": "def combine_market_news(market_train_df, news_train_df):\n\n    # Create expandaded news (will repeat every assetCodes' row)\n    news_cols = ['time', 'assetName'] + list(news_cols_agg.keys())\n    news_train_df_expanded = news_train_df[news_cols]\n    # Free memory\n\n    # Aggregate numerical news features\n    news_train_df_aggregated = news_train_df_expanded.groupby(['time', 'assetName']).agg(news_cols_agg)\n    # Free memory\n    del news_train_df_expanded\n    \n    # Join with train\n    news_train_df_aggregated.columns = ['_'.join(col).strip() for col in news_train_df_aggregated.columns.values]\n    market_train_df = market_train_df.join(news_train_df_aggregated, on=['time', 'assetName'])\n    # Free memory\n    del news_train_df_aggregated\n    \n    return market_train_df",
      "execution_count": null,
      "outputs": []
    },
    {
      "metadata": {
        "trusted": true,
        "_uuid": "8e172fdc5f085d20befd638e9ae365a1d25b4d0f"
      },
      "cell_type": "code",
      "source": "def get_xy(market_train_df, news_train_df):\n    x = get_x(market_train_df, news_train_df)\n    y = market_train_df['returnsOpenNextMktres10'].clip(-1, 1)\n    y = y.values\n    return x, y\n\ndef get_x(market_train_df, news_train_df):\n    # Split date into before and after 22h (the time used in train data)\n    news_train_df['time'] = (news_train_df['time'] - np.timedelta64(22,'h')).dt.ceil('1D')\n\n    # Round time of market_train_df to 0h of curret day\n    market_train_df['time'] = market_train_df['time'].dt.floor('1D')\n\n    # Join market and news\n    x = combine_market_news(market_train_df, news_train_df)\n    \n    # If not label-encoder... encode assetCode\n    try:\n        x.drop(columns=['returnsOpenNextMktres10'], inplace=True)\n    except:\n        pass\n    try:\n        x.drop(columns=['universe'], inplace=True)\n    except:\n        pass\n    x['dayofweek'], x['month'] = x.time.dt.dayofweek, x.time.dt.month\n    x.drop(columns='time', inplace=True)\n    x['marketCommentary_max'] = x['marketCommentary_max'].astype(float)\n    x['marketCommentary_min'] = x['marketCommentary_min'].astype(float)\n    return x",
      "execution_count": null,
      "outputs": []
    },
    {
      "metadata": {
        "trusted": true,
        "_uuid": "39322289eba795bda59450c218f49c1dd845845c"
      },
      "cell_type": "code",
      "source": "# get the training value and the label\nX, y = get_xy(market_train_data, news_train_data)\nreturn_Next10 = y\ny = y>=0",
      "execution_count": null,
      "outputs": []
    },
    {
      "metadata": {
        "trusted": true,
        "scrolled": true,
        "_uuid": "0a55357a5b4f0ec68ccd2ac2989c7532823d2bc3"
      },
      "cell_type": "code",
      "source": "universe = market_train_data['universe']\ntime = market_train_data['time']\ndel market_train_data, news_train_data",
      "execution_count": null,
      "outputs": []
    },
    {
      "metadata": {
        "trusted": true,
        "_uuid": "9fa907ba41306cbc4c35db90dc8626b35c1a240d"
      },
      "cell_type": "code",
      "source": "def feature_normalize(train_data):\n    means = np.mean(train_data, axis = 0)\n    stds = np.std(train_data, axis = 0)\n    print(means)\n    result = ((train_data-means)/stds)\n    return result",
      "execution_count": null,
      "outputs": []
    },
    {
      "metadata": {
        "trusted": true,
        "_uuid": "629fe78b236dcb99d44e2fd0387fe245fb45ece9",
        "scrolled": true
      },
      "cell_type": "code",
      "source": "# For training data\nX.drop(columns = ['assetCode','assetName'],inplace = True)\nX = feature_normalize(X)\ntrain_num = int(X.shape[0] * 0.8)\nX_train, y_train = X[:train_num], y[:train_num]\n# For valid data\nX_valid, y_valid , return_Next10 = X[train_num:], y[train_num:],return_Next10[train_num:]\nuniverse_valid = (universe[train_num:] > 0)\ntime_valid = time[train_num:]\nX_valid = X_valid[universe_valid]\ny_valid = y_valid[universe_valid]\nreturn_Next10 = return_Next10[universe_valid]\ntime_valid = time_valid[universe_valid]\ndel universe_valid, universe,time",
      "execution_count": null,
      "outputs": []
    },
    {
      "metadata": {
        "trusted": true,
        "scrolled": false,
        "_uuid": "b53a48ac15aa8844f9dd5c502ecc8acdd61b1130"
      },
      "cell_type": "code",
      "source": "X = X.fillna(0)",
      "execution_count": null,
      "outputs": []
    },
    {
      "metadata": {
        "trusted": true,
        "_uuid": "64f1de82bdf2c027de23b9c70bc4959cf807ca78"
      },
      "cell_type": "code",
      "source": "from sklearn.linear_model import LogisticRegression\nfrom sklearn.svm import SVC",
      "execution_count": null,
      "outputs": []
    },
    {
      "metadata": {
        "trusted": true,
        "_uuid": "9c321b1251de82b4a9e3afd465338d524bae7653",
        "scrolled": true
      },
      "cell_type": "code",
      "source": "model = LogisticRegression(C = 1).fit(X, y)",
      "execution_count": null,
      "outputs": []
    },
    {
      "metadata": {
        "trusted": true,
        "_uuid": "d04503235cdeb313032efa87bb6f589ed670514d"
      },
      "cell_type": "code",
      "source": "def make_predictions(predictions_template_df, market_obs_df, news_obs_df):\n    DataSet= get_x(market_obs_df, news_obs_df)\n    DataSet.drop(columns = ['assetCode','assetName'],inplace = True)\n    DataSet = feature_normalize(DataSet)\n    DataSet = DataSet.fillna(0)\n    predictions_template_df.confidenceValue = 1 - (model.predict_proba(DataSet)*2)",
      "execution_count": null,
      "outputs": []
    },
    {
      "metadata": {
        "trusted": true,
        "_uuid": "ffc473fedc79f5ff1174994f06abf4a1bb1e419e"
      },
      "cell_type": "code",
      "source": "days = env.get_prediction_days()",
      "execution_count": null,
      "outputs": []
    },
    {
      "metadata": {
        "trusted": true,
        "_uuid": "5874508845b53fbf1026654e82e0acad9b7a39bf"
      },
      "cell_type": "code",
      "source": "for (market_obs_df, news_obs_df, predictions_template_df) in days:\n    make_predictions(predictions_template_df, market_obs_df, news_obs_df)\n    env.predict(predictions_template_df)\nprint('Done!')",
      "execution_count": null,
      "outputs": []
    },
    {
      "metadata": {
        "trusted": true,
        "_uuid": "b1b1baaf5faa03e7f96f265136362e0fad3ae41e"
      },
      "cell_type": "code",
      "source": "env.write_submission_file()",
      "execution_count": null,
      "outputs": []
    },
    {
      "metadata": {
        "_uuid": "d90da87f394ec51cb71734425093876ccce31e03"
      },
      "cell_type": "raw",
      "source": ""
    },
    {
      "metadata": {
        "_uuid": "7a70b23c3f67080e15c295081230500dfee49d72"
      },
      "cell_type": "markdown",
      "source": ""
    },
    {
      "metadata": {
        "trusted": true,
        "_uuid": "024988ebe8e2204b0aad386709c6cb7355c467b4"
      },
      "cell_type": "code",
      "source": "",
      "execution_count": null,
      "outputs": []
    },
    {
      "metadata": {
        "trusted": true,
        "_uuid": "bc7a6cbc0da38faad8f31574e184584b611a6174"
      },
      "cell_type": "code",
      "source": "",
      "execution_count": null,
      "outputs": []
    },
    {
      "metadata": {
        "trusted": true,
        "_uuid": "8a17170a546bde75c0f6c97698caaefbb6050fed"
      },
      "cell_type": "code",
      "source": "",
      "execution_count": null,
      "outputs": []
    }
  ],
  "metadata": {
    "kernelspec": {
      "display_name": "Python 3",
      "language": "python",
      "name": "python3"
    },
    "language_info": {
      "name": "python",
      "version": "3.6.6",
      "mimetype": "text/x-python",
      "codemirror_mode": {
        "name": "ipython",
        "version": 3
      },
      "pygments_lexer": "ipython3",
      "nbconvert_exporter": "python",
      "file_extension": ".py"
    }
  },
  "nbformat": 4,
  "nbformat_minor": 1
}